{
 "cells": [
  {
   "cell_type": "markdown",
   "metadata": {},
   "source": [
    "## Binary Search "
   ]
  },
  {
   "cell_type": "code",
   "execution_count": null,
   "metadata": {},
   "outputs": [],
   "source": [
    "#memory O(logn)\n",
    "#Recursive solution has O(logn) memory complexity as it will consume memory on the stack.\n",
    "\n",
    "def binary_search_rec(a, key, low, high):\n",
    "    if low > high:\n",
    "        return -1\n",
    "    mid = low + (high - low) // 2\n",
    "    if a[mid] == key:\n",
    "        return mid\n",
    "    elif a[mid] > key:\n",
    "        high = mid - 1\n",
    "        return binary_search_rec(a, key, low, high)\n",
    "    else:\n",
    "        low = mid + 1\n",
    "        return binary_search_rec(a, key, low, high)\n",
    "    \n",
    "def binary_search(a, key):\n",
    "    return binary_search_rec(a, key, 0, len(a)-1):"
   ]
  },
  {
   "cell_type": "code",
   "execution_count": null,
   "metadata": {},
   "outputs": [],
   "source": [
    "#Memory Complexity\n",
    "#Constant, O(1).\n",
    "#Iterative solution has the same O(logn) runtime complexity as the recursive solution but has better memory complexity."
   ]
  },
  {
   "cell_type": "code",
   "execution_count": null,
   "metadata": {},
   "outputs": [],
   "source": [
    "#runtime complexity: O(logn)\n",
    "#memory: O(1) \n",
    "\n",
    "def binary_search(a, key):\n",
    "    low = 0\n",
    "    high = len(a)-1\n",
    "    while low <= high:\n",
    "        mid = low + (high - low) // 2\n",
    "        if a[mid] == key:\n",
    "            return mid\n",
    "        \n",
    "        if a[mid] > key:\n",
    "            high = mid-1\n",
    "        else:\n",
    "            low = mid + 1\n",
    "    return -1"
   ]
  },
  {
   "cell_type": "markdown",
   "metadata": {},
   "source": [
    "## Find Maximum in Sliding Window"
   ]
  },
  {
   "cell_type": "code",
   "execution_count": null,
   "metadata": {},
   "outputs": [],
   "source": [
    "#runtime complexity: O(n)\n",
    "#memory: O(w) where w is the window size\n",
    "\n",
    "def find_max_sliding_window(arr, window_size):\n",
    "    if len(arr) == 0:\n",
    "        return \n",
    "    if window_size > len(arr):\n",
    "        return \n",
    "    \n",
    "    window = deque()\n",
    "    \n",
    "    result = []\n",
    "    \n",
    "    #find out max integer for the first window\n",
    "    for i in range(0, window_size):\n",
    "        while window and arr[window[-1]] <= arr[i]:\n",
    "            window.pop()\n",
    "            \n",
    "        window.append(i)\n",
    "    \n",
    "    result.append(arr[window[0]])\n",
    "    \n",
    "    \n",
    "    for i in range(window_size, len(arr)):\n",
    "        #remove all numbers in window that are smaller\n",
    "        #than the current number from the tail of window\n",
    "        \n",
    "        while window and arr[i] >= arr[window[-1]]:\n",
    "            window.pop()\n",
    "        \n",
    "        #remove first number in window if it falls out of the window\n",
    "        \n",
    "        if window and (window[0] <= i -window_size):\n",
    "            window.popleft()\n",
    "            \n",
    "        window.append(i)\n",
    "        result.append(arr[window[0]])\n",
    "    return result"
   ]
  },
  {
   "cell_type": "markdown",
   "metadata": {},
   "source": [
    "An alternative approach to this problem is to use heaps for searching the maximum in every window. In that case, the time complexity will rise to O(n log(w))."
   ]
  },
  {
   "cell_type": "markdown",
   "metadata": {},
   "source": [
    "## Search Rotated Array"
   ]
  },
  {
   "cell_type": "code",
   "execution_count": null,
   "metadata": {},
   "outputs": [],
   "source": [
    "##O(logn)   O(l)\n",
    "\n",
    "def binary_search_rotated(arr, key):\n",
    "    low = 0\n",
    "    high = len(arr)-1\n",
    "    \n",
    "    if low >high:\n",
    "        return -1\n",
    "    while low <= high:\n",
    "        mid = low + (high-low)//2\n",
    "        \n",
    "        if arr[mid] == key:\n",
    "            return mid\n",
    "        \n",
    "        if arr[low] <= arr[mid] and key <= arr[mid] and key >= arr[low]:\n",
    "            high = mid - 1\n",
    "        elif arr[mid] <= arr[high] and key >= arr[mid] and key <= arr[high]:\n",
    "            low = mid + 1\n",
    "        elif arr[low] >= arr[mid]:\n",
    "            high = mid -1\n",
    "        elif arr[high] <= arr[mid]:\n",
    "            low = mid + 1\n",
    "\n",
    "    return -1"
   ]
  },
  {
   "cell_type": "markdown",
   "metadata": {},
   "source": [
    "## Find the Smallest Common Number"
   ]
  },
  {
   "cell_type": "code",
   "execution_count": null,
   "metadata": {},
   "outputs": [],
   "source": [
    "#O(n)\n",
    "#O(1)\n",
    "\n",
    "def find_least_common_number(a,b,c):\n",
    "    i = 0\n",
    "    j = 0\n",
    "    k = 0\n",
    "    \n",
    "    while i < len(a) and j < len(b) and k < len(c):\n",
    "        if a[i] == b[j] and b[j] == c[k]:\n",
    "            return a[i]\n",
    "    # Let's increment the iterator\n",
    "    # for the smallest value.\n",
    "        if a[i] <= b[j] and a[i] <= c[k]:\n",
    "            i += 1\n",
    "        elif b[j] <= a[i] and b[j] <= c[k]:\n",
    "            j += 1\n",
    "        elif c[k] <= a[i] and c[k] <= b[j]:\n",
    "            k += 1\n",
    "    return -1"
   ]
  },
  {
   "cell_type": "markdown",
   "metadata": {},
   "source": [
    "## Rotate Array\n",
    "Given an array of integers, rotate the array by 'N' elements."
   ]
  },
  {
   "cell_type": "code",
   "execution_count": null,
   "metadata": {},
   "outputs": [],
   "source": [
    "#O(n)\n",
    "#O(1)\n",
    "def rotate_array(arr, n):\n",
    "    return arr[-n:]+arr[:-n]"
   ]
  },
  {
   "cell_type": "code",
   "execution_count": null,
   "metadata": {},
   "outputs": [],
   "source": [
    "#O(n)\n",
    "#O(n)\n",
    "\n",
    "def rotate_array(arr, n):\n",
    "    length_arr = len(arr)\n",
    "    \n",
    "    n = n%length_arr\n",
    "    \n",
    "    if n<0:\n",
    "        n += length_arr\n",
    "        \n",
    "    temp = []\n",
    "    \n",
    "    for i in range(0, n):\n",
    "        temp.append(0)\n",
    "        \n",
    "    for i in range(0, n):\n",
    "        temp[i] = arr[length_arr-n+i]\n",
    "    for i in range(length_arr-1, n-1, -1):\n",
    "        arr[i] = arr[i-n]\n",
    "        \n",
    "    for i in range(0, n):\n",
    "        arr[i] = temp[i]\n",
    "        "
   ]
  },
  {
   "cell_type": "markdown",
   "metadata": {},
   "source": [
    "## Find Low/High index (Binary Search)"
   ]
  },
  {
   "cell_type": "code",
   "execution_count": null,
   "metadata": {},
   "outputs": [],
   "source": [
    "#O(logn)\n",
    "#O(1)\n",
    "\n",
    "def find_low_index(arr,key):\n",
    "  low = 0 \n",
    "  high = len(arr)-1\n",
    "  while low <= high:\n",
    "    mid = low + (high - low) // 2\n",
    "    if arr[mid] >= key:\n",
    "      high = mid-1\n",
    "    else:\n",
    "      low = mid + 1\n",
    "\n",
    "  if 0<=low<=len(arr)-1:\n",
    "    if arr[low] == key: \n",
    "      return low\n",
    "  return -1\n",
    "\n",
    "def find_high_index(arr,key):\n",
    "  low = 0 \n",
    "  high = len(arr)-1\n",
    "  while low <= high:\n",
    "    mid = low + (high - low) // 2\n",
    "    if arr[mid] <= key:\n",
    "      low = mid + 1\n",
    "    else:\n",
    "      high = mid - 1\n",
    "  if 0<= high <= len(arr)-1:\n",
    "    if arr[high] == key: \n",
    "      return high\n",
    "  return -1"
   ]
  },
  {
   "cell_type": "markdown",
   "metadata": {},
   "source": [
    "## Move zeros to left (2 pointer)"
   ]
  },
  {
   "cell_type": "code",
   "execution_count": 1,
   "metadata": {},
   "outputs": [],
   "source": [
    "#O(n)\n",
    "#O(1)\n",
    "\n",
    "def move_zeros_to_left(A):\n",
    "  read_index = len(A)-1\n",
    "  write_index = len(A) - 1\n",
    "  while read_index >= 0:\n",
    "    if A[read_index] == 0:\n",
    "      read_index-=1\n",
    "    else:\n",
    "      A[write_index] = A[read_index]\n",
    "      read_index-=1\n",
    "      write_index -= 1\n",
    "  while write_index >= 0:\n",
    "    A[write_index] = 0\n",
    "    write_index -= 1\n",
    "  return A"
   ]
  },
  {
   "cell_type": "markdown",
   "metadata": {},
   "source": [
    "## Find maximum single sell profit"
   ]
  },
  {
   "cell_type": "code",
   "execution_count": null,
   "metadata": {},
   "outputs": [],
   "source": [
    "##O(n)\n",
    "##O(1)\n",
    "\n",
    "def find_buy_sell_stock_prices(array):\n",
    "  buy = 0\n",
    "  sell = 1\n",
    "  glob_prof = array[sell] - array[buy]\n",
    "  cur_prof = float('-inf')\n",
    "  glob_prof = max(cur_prof, glob_prof)\n",
    "\n",
    "  for i in range(1, len(array)):\n",
    "    cur_prof = array[i] - array[buy]\n",
    "    if cur_prof > glob_prof:\n",
    "      glob_prof = cur_prof\n",
    "      sell = i\n",
    "    if array[buy] > array[i]:\n",
    "      array[buy] = array[i]\n",
    "\n",
    "  return -glob_prof + array[sell], array[sell]#Return a tuple with (high, low) price values"
   ]
  },
  {
   "cell_type": "markdown",
   "metadata": {},
   "source": [
    "## Implement Quicksort"
   ]
  },
  {
   "cell_type": "code",
   "execution_count": null,
   "metadata": {},
   "outputs": [],
   "source": [
    "def partition(arr, low, high):\n",
    "    pivot_value = arr[low]\n",
    "    i = low\n",
    "    j = high\n",
    "    \n",
    "    while i < j:\n",
    "        while i <= high and arr[i] <= pivot_value:\n",
    "            i += 1\n",
    "        while arr[j] > pivot_value:\n",
    "            j-= 1\n",
    "        if i<j:\n",
    "            #swap arr[i], arr[j]\n",
    "            arr[i], arr[j] = arr[j], arr[i]\n",
    "    arr[low] = arr[j]\n",
    "    arr[j] = pivot_value\n",
    "    \n",
    "    #return the pivot index\n",
    "    return j\n",
    "\n",
    "def quick_sort_rec(a, l, h):\n",
    "    if h > l:\n",
    "        pivot_index = partition(a, l, h)\n",
    "        quick_sort_rec(a, l, pivot_index-1)\n",
    "        quick_sort_rec(a, pivot_index+1, h)\n",
    "        \n",
    "def quick_sort(a):\n",
    "    quick_sort_rec(a, 0, len(a)-1)"
   ]
  },
  {
   "cell_type": "code",
   "execution_count": null,
   "metadata": {},
   "outputs": [],
   "source": []
  },
  {
   "cell_type": "code",
   "execution_count": 3,
   "metadata": {},
   "outputs": [
    {
     "data": {
      "text/plain": [
       "1"
      ]
     },
     "execution_count": 3,
     "metadata": {},
     "output_type": "execute_result"
    }
   ],
   "source": [
    "a = (0,1)\n",
    "a[1]"
   ]
  },
  {
   "cell_type": "code",
   "execution_count": 8,
   "metadata": {},
   "outputs": [],
   "source": [
    "def find_busy_intervals(v1):\n",
    "  result = v1[0]\n",
    "  if len(v1) == 1: return v1\n",
    "  result = []\n",
    "  temp = v1[0]\n",
    "  for i in v1[1:]:\n",
    "    if i[0] <= temp[1]:\n",
    "      temp = (temp[0], max(temp[1], i[1]))\n",
    "    else:\n",
    "      result.append(temp)\n",
    "      temp = i\n",
    "  result.append(temp)\n",
    "  return result"
   ]
  },
  {
   "cell_type": "code",
   "execution_count": 11,
   "metadata": {},
   "outputs": [
    {
     "data": {
      "text/plain": [
       "[(2, 43), (50, 51)]"
      ]
     },
     "execution_count": 11,
     "metadata": {},
     "output_type": "execute_result"
    }
   ],
   "source": [
    "v1= [(2,43),(3,10), (1,10), (50,51)]\n",
    "find_busy_intervals(v1)"
   ]
  },
  {
   "cell_type": "markdown",
   "metadata": {},
   "source": [
    "## Sum of Two Values"
   ]
  },
  {
   "cell_type": "code",
   "execution_count": null,
   "metadata": {},
   "outputs": [],
   "source": [
    "# find_sum_of_two function return true if\n",
    "# there are two values in array who\n",
    "# sum to value and returns false otherwise\n",
    "\n",
    "##O(n)\n",
    "##O(n)\n",
    "def find_sum_of_two(A, val):\n",
    "  dic = dict()\n",
    "  for i in A:\n",
    "    if not dic or i not in dic.keys():\n",
    "      dic[val-i] = i\n",
    "    elif i in dic.keys():\n",
    "      return True\n",
    "  return False;"
   ]
  },
  {
   "cell_type": "markdown",
   "metadata": {},
   "source": [
    "# (!) Reverse a Singly Linked List"
   ]
  },
  {
   "cell_type": "code",
   "execution_count": null,
   "metadata": {},
   "outputs": [],
   "source": [
    "#1. iteratively O(n), O(1)\n",
    "\n",
    "def reverse_iterative(head):\n",
    "    if head == None or head.next = None:\n",
    "        return head\n",
    "    \n",
    "    list_to_do = head.next\n",
    "    reversed_list = head\n",
    "    reversed_list.next = None\n",
    "    \n",
    "    while list_to_do != None:\n",
    "        temp = list_to_do\n",
    "        list_to_do = list_to_do.next\n",
    "        \n",
    "        temp.next = reversed_list\n",
    "        reversed_list = temp\n",
    "    return reversed_list"
   ]
  },
  {
   "cell_type": "code",
   "execution_count": 41,
   "metadata": {},
   "outputs": [],
   "source": [
    "#2. reversive (stack use) O(n), O(n)\n",
    "\n",
    "def reverse_recursive(head):\n",
    "    \n",
    "    if head == None or head.next == None: return head\n",
    "    reversed_list = reverse_recursive(head.next)\n",
    "    \n",
    "    head.next.next = head\n",
    "    head.next = None\n",
    "    \n",
    "    return reversed_list\n",
    "    \n",
    "    \n"
   ]
  },
  {
   "cell_type": "markdown",
   "metadata": {},
   "source": [
    "## Remove Duplicates from a Linked List"
   ]
  },
  {
   "cell_type": "code",
   "execution_count": null,
   "metadata": {},
   "outputs": [],
   "source": [
    "#O(n)\n",
    "#O(n) for hashset\n",
    "def remove_duplicates(head):\n",
    "  newll = head\n",
    "\n",
    "  hashset = set()\n",
    "  hashset.add(head.data)\n",
    "  while head.next != None:\n",
    "    if head.next.data not in hashset:\n",
    "      hashset.add(head.next.data)\n",
    "      head = head.next\n",
    "    else:\n",
    "      head.next = head.next.next\n",
    "\n",
    "  return newll"
   ]
  },
  {
   "cell_type": "markdown",
   "metadata": {},
   "source": [
    "## Delete Node with a Given Key"
   ]
  },
  {
   "cell_type": "code",
   "execution_count": null,
   "metadata": {},
   "outputs": [],
   "source": [
    "#O(n)\n",
    "#O(1)\n",
    "\n",
    "def delete_node(head, key):\n",
    "    prev = None\n",
    "    current = head\n",
    "    \n",
    "    while current != None:\n",
    "        if current.data == key:\n",
    "            if current == head:\n",
    "                head =head.next\n",
    "                current = head\n",
    "            else:\n",
    "                prev.next = current.next\n",
    "                current = current.next\n",
    "        else:\n",
    "            prev = current\n",
    "            current.current.next\n",
    "    # key not found in list\n",
    "    #if current == None:\n",
    "        #return head\n",
    "    return head"
   ]
  },
  {
   "cell_type": "markdown",
   "metadata": {},
   "source": [
    "# (!) Insertion Sort of a Linked List"
   ]
  },
  {
   "cell_type": "code",
   "execution_count": null,
   "metadata": {},
   "outputs": [],
   "source": [
    "#O(n^2)\n",
    "#O(n) for sorted part and result\n",
    "\n",
    "def sorted_insert(head, node):\n",
    "    \n",
    "    if node == None:\n",
    "        return head\n",
    "    if head == None or node.data <= head.data:\n",
    "        node.next = head\n",
    "        return node\n",
    "    \n",
    "    curr = head\n",
    "    while curr.next != None and curr.next.data < node.data:\n",
    "        curr = curr.next\n",
    "    \n",
    "    node.next = curr.next\n",
    "    curr.next = node\n",
    "    \n",
    "    return head\n",
    "\n",
    "def insertion_sort(head):\n",
    "    sort = None\n",
    "    curr = head\n",
    "    \n",
    "    while curr != None:\n",
    "        temp = curr.next\n",
    "        sort = sorted_insert(sort, curr)\n",
    "        curr = temp\n",
    "    \n",
    "    return sort"
   ]
  },
  {
   "cell_type": "markdown",
   "metadata": {},
   "source": [
    "## Intersection Point of Two Lists"
   ]
  },
  {
   "cell_type": "code",
   "execution_count": null,
   "metadata": {},
   "outputs": [],
   "source": [
    "##solution 1: merge 2 lists AB and BA. scan one by one\n",
    "#O(m+n)\n",
    "#O(1)\n",
    "\n",
    "def intersect(head1, head2):\n",
    "    if head1 == None or head2 == None: return None\n",
    "    temp1 = head1\n",
    "    temp2 = head2\n",
    "    while temp1 != temp2:\n",
    "        if temp1 == None: temp1= head2\n",
    "        else: temp1= temp1.next\n",
    "\n",
    "        if temp2 == None: temp2= head1\n",
    "        else: temp2= temp2.next\n",
    "\n",
    "\n",
    "    return temp1"
   ]
  },
  {
   "cell_type": "code",
   "execution_count": null,
   "metadata": {},
   "outputs": [],
   "source": [
    "##Solution 2: calculate length difference. First jump in longer to mantaion the same lengths\n",
    "\n",
    "def intersect(head1, head2):\n",
    "    list1node = None\n",
    "    lis1length = get_length(head1)\n",
    "    \n",
    "    list2node = None\n",
    "    list2length = get_length(head2)\n",
    "    \n",
    "    length_difference = 0\n",
    "    if list1length >= list2length:\n",
    "        length_difference = list1length - list2length\n",
    "        list1node = head1\n",
    "        list2node = head2\n",
    "    else:\n",
    "        length_difference = list2length = list1length\n",
    "        list1node = head2\n",
    "        list2node = head1\n",
    "    while length_difference >0:\n",
    "        list1node = list1node.next\n",
    "        length_difference -= 1\n",
    "        \n",
    "    while list1node != None:\n",
    "        if list1node == list2node:\n",
    "            return list1node\n",
    "        \n",
    "        list1node = list1node.next\n",
    "        list2node = list2node.next\n",
    "    return None\n",
    "\n",
    "def get_length(head):\n",
    "    list_length = 0\n",
    "    while head != None:\n",
    "        head = head.next\n",
    "        list_length += 1\n",
    "    return list_length"
   ]
  },
  {
   "cell_type": "markdown",
   "metadata": {},
   "source": [
    "## Nth from Last Node"
   ]
  },
  {
   "cell_type": "code",
   "execution_count": null,
   "metadata": {},
   "outputs": [],
   "source": [
    "#O(n)\n",
    "#O(1)\n",
    "\n",
    "def find_nth_from_last(head, n):\n",
    "    if not head or n < 1: return None\n",
    "    p1 = head\n",
    "    p2 = p1\n",
    "    i = 1\n",
    "    while i < n:\n",
    "        p2 = p2.next\n",
    "        i += 1\n",
    "        if p2 == None:\n",
    "            return None\n",
    "    while p2.next != None:\n",
    "        p1 = p1.next\n",
    "        p2 = p2.next\n",
    "    \n",
    "    return p1"
   ]
  },
  {
   "cell_type": "markdown",
   "metadata": {},
   "source": [
    "# (!)Swap Nth Node with Head"
   ]
  },
  {
   "cell_type": "code",
   "execution_count": null,
   "metadata": {},
   "outputs": [],
   "source": [
    "#O(n)\n",
    "#(1)\n",
    "\n",
    "def swap_nth_node(head, n):\n",
    "    prev = None\n",
    "    current = head\n",
    "    \n",
    "    if head == None: return head\n",
    "    if n == 1: return head\n",
    "    \n",
    "    count = 1\n",
    "    while current != None and count < n:\n",
    "        prev = current\n",
    "        current = current.next\n",
    "        count += 1\n",
    "    if current == None: return head\n",
    "    \n",
    "    prev.next = head\n",
    "    temp = head.next\n",
    "    head.next = current.next\n",
    "    current.next = temp\n",
    "    \n",
    "    return current"
   ]
  },
  {
   "cell_type": "markdown",
   "metadata": {},
   "source": [
    "# Merge Two Sorted Linked Lists"
   ]
  },
  {
   "cell_type": "code",
   "execution_count": null,
   "metadata": {},
   "outputs": [],
   "source": [
    "#O(m+n)\n",
    "#O(1)\n",
    "\n",
    "def merge_sorted(head1, head2):\n",
    "    if head1 == None: return head2\n",
    "    elif head2 == None: return head1\n",
    "    \n",
    "    mergeHead = None\n",
    "    if head1.data <= head2.data:\n",
    "        mergeHead = head1\n",
    "        head1 = head1.next\n",
    "    else:\n",
    "        mergeHead = head2\n",
    "        head2 = head2.next\n",
    "    \n",
    "    mergeTail = mergeHead\n",
    "    \n",
    "    while head1 != None and head2 != None:\n",
    "        temp = None\n",
    "        if head1.data <= head2.data:\n",
    "            temp = head1\n",
    "            head1 = head1.next\n",
    "        else:\n",
    "            temp = head2\n",
    "            head2 = head2.next\n",
    "        mergeTail.next = temp\n",
    "        #mergeTail = temp\n",
    "        mergedTail = mergedTail.next\n",
    "        \n",
    "    if head1 != None:\n",
    "        mergetail.next = head1\n",
    "    elif head2 != None:\n",
    "        mergeTail.next = head2\n",
    "    \n",
    "    return mergeHead"
   ]
  },
  {
   "cell_type": "markdown",
   "metadata": {},
   "source": [
    "# Merge Sort"
   ]
  },
  {
   "cell_type": "code",
   "execution_count": null,
   "metadata": {},
   "outputs": [],
   "source": [
    "def split_in_half(head, first_second):\n",
    "    if head == None:\n",
    "        first_second.first = None\n",
    "        first_second.second = None\n",
    "        return\n",
    "    #only 1 element in the list:\n",
    "    if head.next == None:\n",
    "        first_second.first = head\n",
    "        first_second.second = None\n",
    "    else:\n",
    "    # Let's use the classic technique of moving two pointers:\n",
    "    # 'fast' and 'slow'. 'fast' will move two steps in each \n",
    "    # iteration where 'slow' will be pointing to middle element\n",
    "    # at the end of loop.\n",
    "        \n",
    "        slow = head\n",
    "        fast = head.next\n",
    "        while fast != None:\n",
    "            fast = fast.next\n",
    "            if fast != None:\n",
    "                fast = fast.next\n",
    "                slow = slow.next\n",
    "        first_second.first = head\n",
    "        fitst_second.second = slow.next\n",
    "        \n",
    "        # Terminate first linked list.\n",
    "        slow.next = None\n",
    "\n",
    "def merge_sort(head):\n",
    "\n",
    "  # No need to sort a single element.\n",
    "    if head == None or head.next == None: return head\n",
    "    first_secod = pair(None, None)\n",
    "    \n",
    "    # Let's split the list in half, sort the sublists\n",
    "    # and then merge the sorted lists.\n",
    "    split_in_half(head, first_second)\n",
    "    first_second.first = merge_sort(first_second.first)\n",
    "    first_second.second = merge_sort(first_second.second)\n",
    "    \n",
    "    return merge_sorted(first_second.first, first_second.second)\n",
    "        "
   ]
  },
  {
   "cell_type": "markdown",
   "metadata": {},
   "source": [
    "# (!) Reverse Even Nodes"
   ]
  },
  {
   "cell_type": "code",
   "execution_count": null,
   "metadata": {},
   "outputs": [],
   "source": [
    "#O(n)\n",
    "#O(1)\n",
    "\n",
    "def merge_alternating(list1, list2):\n",
    "    if list1 == None:\n",
    "        return list2\n",
    "    if list2 == None:\n",
    "        return list1\n",
    "    \n",
    "    head = list1\n",
    "    while list1.next != None and list2:\n",
    "        temp = list2\n",
    "        list2 = list2.next\n",
    "        \n",
    "        temp.next = list1.next\n",
    "        list1.next = temp\n",
    "        list1 = temp.next\n",
    "    if list1.next == None:\n",
    "        list1.next = list2\n",
    "        \n",
    "    return head\n",
    "\n",
    "def reverse_even_nodes(head):\n",
    "  # Let's extract even nodes from the existing\n",
    "  # list and create a new list consisting of \n",
    "  # even nodes. We will push the even nodes at\n",
    "  # head since we want them to be in reverse order.\n",
    "    \n",
    "    curr = head\n",
    "    list_even = None\n",
    "    \n",
    "    while curr != None and curr.next != None:\n",
    "        even = curr.next\n",
    "        curr.next = even.next\n",
    "        \n",
    "        # Push at the head of new list.\n",
    "        even.next = list_even\n",
    "        list_even = even\n",
    "        \n",
    "        curr = curr.next\n",
    "    return merge_alternating(head, list_even)"
   ]
  },
  {
   "cell_type": "markdown",
   "metadata": {},
   "source": [
    "## Rotate a Linked List"
   ]
  },
  {
   "cell_type": "code",
   "execution_count": null,
   "metadata": {},
   "outputs": [],
   "source": [
    "#O(m) where m is the length of list\n",
    "#O(1)\n",
    "\n",
    "def rotate_list(head, n):\n",
    "\n",
    "    if not head: return head\n",
    "    n = n % len_list(head)\n",
    "    if n == 0: return head\n",
    "    curr = head\n",
    "    n_p = len_list(head) - n \n",
    "    j = 1\n",
    "    while j < n_p:\n",
    "        curr = curr.next\n",
    "        j += 1\n",
    "    temp = curr.next\n",
    "    curr.next = None\n",
    "    \n",
    "    newhead = temp\n",
    "    #temp not the last node as n != 0\n",
    "    while temp.next != None:\n",
    "        temp = temp.next\n",
    "    temp.next = head\n",
    "    return newhead\n",
    "\n",
    "def len_list(head):\n",
    "    i = 0\n",
    "    while head:\n",
    "        i += 1\n",
    "        head = head.next\n",
    "    return i"
   ]
  },
  {
   "cell_type": "markdown",
   "metadata": {},
   "source": [
    "# (!) Reverse k Elements"
   ]
  },
  {
   "cell_type": "code",
   "execution_count": null,
   "metadata": {},
   "outputs": [],
   "source": [
    "##O(n)\n",
    "##O(1)\n",
    "\n",
    "def reverse_k_nodes(head, k):\n",
    "    # if k is 0 or 1, then list is not changed\n",
    "    if k <= 1 or head == None: return head\n",
    "    \n",
    "    reverse = None\n",
    "    pre_tail = None\n",
    "    \n",
    "    while head != None and k > 0:\n",
    "        current_head = None\n",
    "        current_tail = head\n",
    "        n = k\n",
    "        while head != None and n > 0:\n",
    "            temp = head.next\n",
    "            head.next = current_head\n",
    "            current_head = head\n",
    "            \n",
    "            head = temp\n",
    "            n -= 1\n",
    "            \n",
    "        if reverse == None:\n",
    "            reverse = current_head #first sub-list\n",
    "        if pre_tail != None:\n",
    "            pre_tail.next = current_head\n",
    "        \n",
    "        pre_tail = current_tail\n",
    "    return reverse"
   ]
  },
  {
   "cell_type": "markdown",
   "metadata": {},
   "source": [
    "# Add Two Integers"
   ]
  },
  {
   "cell_type": "code",
   "execution_count": null,
   "metadata": {},
   "outputs": [],
   "source": [
    "#O(n)\n",
    "#O(n)\n",
    "\n",
    "def add_integers(integer1, integer2):\n",
    "    result = None\n",
    "    last = None\n",
    "    carry = 0\n",
    "    while (integer1 != None or integer2 != None or carry > 0): \n",
    "        first = (0 if integer1 == None else integer1.data)\n",
    "        second = (0 if integer2 == None else integer2.data)\n",
    "        sum = first + second + carry\n",
    "        pNew = LinkedListNode(sum % 10)\n",
    "        carry = sum //10\n",
    "        if result == None:\n",
    "            result = pNew\n",
    "        else: \n",
    "            last.next = pNew\n",
    "        \n",
    "        last = pNew\n",
    "        if integer1 != None:\n",
    "            integer1 = integer1.next\n",
    "        if integer2 != None:\n",
    "            integer2 = integer2.next\n",
    "        \n",
    "    return result"
   ]
  },
  {
   "cell_type": "markdown",
   "metadata": {},
   "source": [
    "# (!) Deep Copy Linked List with Arbitrary Pointer"
   ]
  },
  {
   "cell_type": "code",
   "execution_count": null,
   "metadata": {},
   "outputs": [],
   "source": [
    "##a map to track\n",
    "#O(n)\n",
    "#O(n)\n",
    "def deep_copy_arbitrary_pointer(head):\n",
    "    if head == None:\n",
    "        return None\n",
    "    \n",
    "    current = head\n",
    "    new_head = None\n",
    "    new_prev = None\n",
    "    ht = dict()\n",
    "    \n",
    "    # create copy of the linked list, recording the corresponding\n",
    "  # nodes in hashmap without updating arbitrary pointer\n",
    "    while current != None:\n",
    "        new_node = LinkedListNode(current.data)\n",
    "\n",
    "    # copy the old arbitrary pointer in the new node\n",
    "        new_node.arbitrary = current.arbitrary\n",
    "    \n",
    "        if new_prev != None:\n",
    "            new_prev.next = new_node\n",
    "        else:\n",
    "            new_head = new_node\n",
    "    \n",
    "    \n",
    "        ht[current] = new_node\n",
    "    \n",
    "        new_prev = new_node\n",
    "        current = current.next\n",
    "    \n",
    "    \n",
    "    new_curent = new_head\n",
    "    \n",
    "     # updating arbitrary pointer\n",
    "    while new_current != None:\n",
    "        if new_current.arbitrary != None:\n",
    "            node = ht[new_current.arbitrary]\n",
    "            \n",
    "            new_current.arbitrary = node\n",
    "        \n",
    "        new_current = new_current.next\n",
    "        \n",
    "    return new_head\n",
    "\n",
    "    \n",
    "    "
   ]
  },
  {
   "cell_type": "code",
   "execution_count": 10,
   "metadata": {},
   "outputs": [
    {
     "data": {
      "text/plain": [
       "['W', 'H']"
      ]
     },
     "execution_count": 10,
     "metadata": {},
     "output_type": "execute_result"
    }
   ],
   "source": [
    "a = 'H W'\n",
    "a.split()[::-1]"
   ]
  },
  {
   "cell_type": "code",
   "execution_count": 15,
   "metadata": {},
   "outputs": [],
   "source": [
    "def reverse_words(sentence):    # sentence here is an array of characters\n",
    "  l = sentence.split()\n",
    "  result = ''.join(i + ' ' for i in l[::-1])\n",
    "  return result[:-1]"
   ]
  },
  {
   "cell_type": "code",
   "execution_count": 16,
   "metadata": {},
   "outputs": [
    {
     "data": {
      "text/plain": [
       "'World! Hello'"
      ]
     },
     "execution_count": 16,
     "metadata": {},
     "output_type": "execute_result"
    }
   ],
   "source": [
    "reverse_words('Hello World!')"
   ]
  },
  {
   "cell_type": "code",
   "execution_count": null,
   "metadata": {},
   "outputs": [],
   "source": []
  },
  {
   "cell_type": "markdown",
   "metadata": {},
   "source": [
    "## (!) Find kth Permutation"
   ]
  },
  {
   "cell_type": "code",
   "execution_count": null,
   "metadata": {},
   "outputs": [],
   "source": [
    "def factorial(n):\n",
    "    if n== 0 or n == 1:\n",
    "        return 1\n",
    "    return n * factorial(n-1)\n",
    "\n",
    "def find_kth_permutation(v, k, result):\n",
    "    if not v:\n",
    "        return\n",
    "    n = len(v)\n",
    "    \n",
    "    count = factorial(n-1)\n",
    "    selected = (k-1) // count\n",
    "    \n",
    "    result += str(v[selected])\n",
    "    del v[selected]\n",
    "    k = k - count * selected\n",
    "    find_kth-permutation(v, k, result)\n",
    "    "
   ]
  },
  {
   "cell_type": "markdown",
   "metadata": {},
   "source": [
    "## (!!) Integer Division (bitwise operator)"
   ]
  },
  {
   "cell_type": "code",
   "execution_count": null,
   "metadata": {},
   "outputs": [],
   "source": [
    "#O(logn)\n",
    "#O(logn)\n",
    "\n",
    "def integer_devide(x, y):\n",
    "    if y == 0: return -1\n",
    "    if x<y: return 0\n",
    "    elif x == y: return 1\n",
    "    elif y== 1: return x\n",
    "    \n",
    "    q = 1\n",
    "    val = y\n",
    "    \n",
    "    while val < x:\n",
    "        val<<=1\n",
    "        #can also use val += val\n",
    "        q<<=1\n",
    "        #can also use q += q\n",
    "        \n",
    "        if val > x:\n",
    "            val >>= 1 ##half\n",
    "            q >>=1  ##half\n",
    "            return q + integer_devide(x - val, y)\n",
    "        return q # if val == x 整除"
   ]
  },
  {
   "cell_type": "markdown",
   "metadata": {},
   "source": [
    "## (!) Pythagorean Triplets (3SUM)"
   ]
  },
  {
   "cell_type": "code",
   "execution_count": null,
   "metadata": {},
   "outputs": [],
   "source": [
    "def find_pythagorean_triplets_2(arr):\n",
    "    n = len(arr)\n",
    "    triplets = []\n",
    "    arr.sort()\n",
    "    \n",
    "    for i in range(n): #target sum\n",
    "        if arr[i] == 0:\n",
    "            continue\n",
    "        \n",
    "        c2 = arr[i] ** 2\n",
    "        j = 0 #start\n",
    "        k = n-1 #end\n",
    "        \n",
    "        while j < k:\n",
    "            if j == i or arr[j] == 0:\n",
    "                j += 1\n",
    "                continue\n",
    "            \n",
    "            if k == i or arr[k] == 0:\n",
    "                k -= 1\n",
    "                continue\n",
    "            a2 = arr[j] **2\n",
    "            b2 = arr[k] **2\n",
    "            \n",
    "            if a2 + b2 = c2:\n",
    "                triplets.append([arr[i], arr[j], arr[k]])\n",
    "                break\n",
    "            elif a2 + b2 > c2:\n",
    "                k-=1\n",
    "            else:\n",
    "                j += 1\n",
    "    return triplets\n",
    "    \n",
    "    "
   ]
  },
  {
   "cell_type": "markdown",
   "metadata": {},
   "source": [
    "## (?) All Sum Combinations"
   ]
  },
  {
   "cell_type": "code",
   "execution_count": null,
   "metadata": {},
   "outputs": [],
   "source": [
    "import copy\n",
    "\n",
    "def print_all_sum_rec(target, current_sum, start, output, result):\n",
    "    if current_sum == target:\n",
    "        output.append(copy.copy(result))\n",
    "    \n",
    "    for i in range(start, target):\n",
    "        temp_sum = current_sum + i\n",
    "        if temp_sum <= target:\n",
    "            result.append(i)\n",
    "            print_all_sum_rec(target, temp_sum, i, output, result)\n",
    "            result.pop()\n",
    "        else:\n",
    "            return\n",
    "    \n",
    "def print_all_sum(target):\n",
    "    output = []\n",
    "    result = []\n",
    "    print_all_sum_rec(target, 0, 1, output, result)\n",
    "    return output"
   ]
  },
  {
   "cell_type": "markdown",
   "metadata": {},
   "source": [
    "## Find Missing Number"
   ]
  },
  {
   "cell_type": "code",
   "execution_count": null,
   "metadata": {},
   "outputs": [],
   "source": [
    "def find_missing(input):\n",
    "    n = len(input)+1\n",
    "    sum_t = n*(1+n)/2\n",
    "    temp = 0\n",
    "    for i in input:\n",
    "        temp += i\n",
    "    \n",
    " #TODO: Write - Your - Code\n",
    "    return int(sum_t - temp)"
   ]
  },
  {
   "cell_type": "code",
   "execution_count": 1,
   "metadata": {},
   "outputs": [
    {
     "data": {
      "text/plain": [
       "['Hello', 'World']"
      ]
     },
     "execution_count": 1,
     "metadata": {},
     "output_type": "execute_result"
    }
   ],
   "source": [
    "a = 'Hello World'\n",
    "a.split()"
   ]
  },
  {
   "cell_type": "markdown",
   "metadata": {},
   "source": [
    "## Fibonacci Numbers"
   ]
  },
  {
   "cell_type": "code",
   "execution_count": null,
   "metadata": {},
   "outputs": [],
   "source": [
    "#O(n)\n",
    "#O(1)\n",
    "\n",
    "def get_fibonacci(n):\n",
    "  if n<0:\n",
    "    return\n",
    "  if n == 0:\n",
    "    return 0\n",
    "  if n == 1:\n",
    "    return 1\n",
    "  a = 0\n",
    "  b = 1\n",
    "  for i in range(2, n+1):\n",
    "    temp = b\n",
    "    b = b + a\n",
    "    a = temp\n",
    "  return b"
   ]
  },
  {
   "cell_type": "markdown",
   "metadata": {},
   "source": [
    "## (!)Largest Sum Subarray"
   ]
  },
  {
   "cell_type": "code",
   "execution_count": null,
   "metadata": {},
   "outputs": [],
   "source": [
    "#O(n)\n",
    "#O(1)\n",
    "def find_max_sum_sub_array(A):\n",
    "    if len(A) <1:\n",
    "        return 0\n",
    "    curr_max = A[0]\n",
    "    glob_max = A[0]\n",
    "    lengthA = len(A)\n",
    "    for i in range(1, lengthA):\n",
    "        if curr_max < 0:\n",
    "            curr_max = A[i]\n",
    "        else:\n",
    "            curr_max += A[i]\n",
    "        \n",
    "        if glob_max < curr_max:\n",
    "            glob_max = curr_max\n",
    "        \n",
    "        return glob_max"
   ]
  },
  {
   "cell_type": "markdown",
   "metadata": {},
   "source": [
    "## (!!)MaxSum Subsequence - Nonadjacent Elements"
   ]
  },
  {
   "cell_type": "code",
   "execution_count": null,
   "metadata": {},
   "outputs": [],
   "source": [
    "#O(n)\n",
    "#O(n)\n",
    "def find_max_sum_nonadjacent(a):\n",
    "    if len(a) < 1:\n",
    "        return 0\n",
    "    elif len(a) == 1:\n",
    "        return a[0]\n",
    "    \n",
    "    lengthA = len(a)\n",
    "    result = []\n",
    "    result.append(a[0])\n",
    "    for i in range(1, lengthA):\n",
    "        result.append(max(a[i], result[i-1])) ##record the last iteration / a[i]\n",
    "        \n",
    "        if i >= 2:\n",
    "            result[i] = max(result[i], a[i]+ result[i-2]) ## if a[i] > result[i-1], check on a[i] + result[i-2] . or, check on result[i-1] and a[i] + result[i-2]\n",
    "    return result[lengthA-1]\n",
    "    \n",
    "    "
   ]
  },
  {
   "cell_type": "markdown",
   "metadata": {},
   "source": [
    "## Game Scoring: Find the Number of Ways a Player can Score 'n' Runs"
   ]
  },
  {
   "cell_type": "code",
   "execution_count": null,
   "metadata": {},
   "outputs": [],
   "source": [
    "#Scoring options are 1, 2, 4\n",
    "#O(n)\n",
    "#O(1)\n",
    "def scoring_options_dp(n):\n",
    "    if n <= 0:\n",
    "        return 0\n",
    "  #Max score is 4. Hence we need to save \n",
    "  #last 4 ways to calculate the number of ways\n",
    "  #for a given n\n",
    "  #save the base case on last index of the vector\n",
    "    \n",
    "    result = [0,0,0,1]\n",
    "    \n",
    "    for i in range(1, n+1):\n",
    "        curr_sum = result[3]+result[2]+result[0]\n",
    "        \n",
    "        result[0] = result[1]\n",
    "        result[1] = reulst[2]\n",
    "        result[2] = result[3]\n",
    "        result[3] = curr_sum\n",
    "    return result[3]"
   ]
  },
  {
   "cell_type": "code",
   "execution_count": 1,
   "metadata": {
    "scrolled": true
   },
   "outputs": [
    {
     "ename": "NameError",
     "evalue": "name 'array' is not defined",
     "output_type": "error",
     "traceback": [
      "\u001b[0;31m---------------------------------------------------------------------------\u001b[0m",
      "\u001b[0;31mNameError\u001b[0m                                 Traceback (most recent call last)",
      "\u001b[0;32m<ipython-input-1-acbc78e5984a>\u001b[0m in \u001b[0;36m<module>\u001b[0;34m()\u001b[0m\n\u001b[0;32m----> 1\u001b[0;31m \u001b[0marray\u001b[0m\u001b[0;34m(\u001b[0m\u001b[0;34m'i'\u001b[0m\u001b[0;34m,\u001b[0m\u001b[0;34m(\u001b[0m\u001b[0;36m0\u001b[0m \u001b[0;32mfor\u001b[0m \u001b[0mi\u001b[0m \u001b[0;32min\u001b[0m \u001b[0mrange\u001b[0m\u001b[0;34m(\u001b[0m\u001b[0;36m0\u001b[0m\u001b[0;34m,\u001b[0m \u001b[0;36m7\u001b[0m \u001b[0;34m+\u001b[0m \u001b[0;36m1\u001b[0m\u001b[0;34m)\u001b[0m\u001b[0;34m)\u001b[0m\u001b[0;34m)\u001b[0m\u001b[0;34m\u001b[0m\u001b[0m\n\u001b[0m",
      "\u001b[0;31mNameError\u001b[0m: name 'array' is not defined"
     ]
    }
   ],
   "source": [
    "array('i',(0 for i in range(0, 7 + 1)))"
   ]
  },
  {
   "cell_type": "markdown",
   "metadata": {},
   "source": [
    "## (!) Coin Changing Problem"
   ]
  },
  {
   "cell_type": "code",
   "execution_count": null,
   "metadata": {},
   "outputs": [],
   "source": [
    "#O(m*n) denomination*amount\n",
    "#O(n)\n",
    "def solve_coin_change_dp(denominations, amount):\n",
    "    solution = array('i', (0 for i in range(0, amount + 1)))\n",
    "    solution[0] = 1\n",
    "    for den in denominations:\n",
    "        for i in range(den, amount+1):\n",
    "            solution[i] += solution[i-den]\n",
    "    \n",
    "    return solution[len(solution) - 1]    "
   ]
  }
 ],
 "metadata": {
  "kernelspec": {
   "display_name": "Python 3",
   "language": "python",
   "name": "python3"
  },
  "language_info": {
   "codemirror_mode": {
    "name": "ipython",
    "version": 3
   },
   "file_extension": ".py",
   "mimetype": "text/x-python",
   "name": "python",
   "nbconvert_exporter": "python",
   "pygments_lexer": "ipython3",
   "version": "3.6.2"
  }
 },
 "nbformat": 4,
 "nbformat_minor": 2
}
